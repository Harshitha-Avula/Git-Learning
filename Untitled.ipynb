{
 "cells": [
  {
   "cell_type": "markdown",
   "metadata": {},
   "source": [
    "### Concepts\n",
    "- Basics\n",
    "- Datatypes and Conversions\n",
    "- Control Statements\n",
    "    - Conditional Statemens\n",
    "    - Looping Statements\n",
    "- Functional Programming\n",
    "- List,Tuple,Sets and Dict\n",
    "- External Packages\n",
    "    -Math\n",
    "- Regular Expressions\n",
    "- File Handling\n",
    "    - Reading the file Data\n",
    "    - Writing the file Data\n",
    "    - Perform the operations on the file\n",
    "- OOPS\n",
    "    - Class\n",
    "    - Objects\n",
    "    - Methods\n",
    "    - Constructors\n",
    "    - Inheritance\n",
    "    - Polymorphism\n",
    "- Exception Handling\n",
    "- List comprehances, Lambda Expression"
   ]
  },
  {
   "cell_type": "markdown",
   "metadata": {},
   "source": [
    "### Functional Programming\n",
    "- Reduce the Complex\n",
    "- Reuseable Block\n",
    "- Divides the Lengthy Program into sub blocks so that it is easy for read\n",
    "- Camel Case (function name or variable name)"
   ]
  },
  {
   "cell_type": "code",
   "execution_count": null,
   "metadata": {},
   "outputs": [],
   "source": [
    "def funName(<parameters>):\n",
    "    return"
   ]
  },
  {
   "cell_type": "code",
   "execution_count": 2,
   "metadata": {},
   "outputs": [
    {
     "name": "stdout",
     "output_type": "stream",
     "text": [
      "test() function...\n"
     ]
    }
   ],
   "source": [
    "def test():\n",
    "    print(\"test() function...\")\n",
    "    return\n",
    "test()"
   ]
  },
  {
   "cell_type": "code",
   "execution_count": 4,
   "metadata": {},
   "outputs": [
    {
     "data": {
      "text/plain": [
       "'Dhyanahita'"
      ]
     },
     "execution_count": 4,
     "metadata": {},
     "output_type": "execute_result"
    }
   ],
   "source": [
    "def isTest():\n",
    "    return \"Dhyanahita\"\n",
    "isTest()\n"
   ]
  },
  {
   "cell_type": "code",
   "execution_count": 5,
   "metadata": {},
   "outputs": [
    {
     "data": {
      "text/plain": [
       "123"
      ]
     },
     "execution_count": 5,
     "metadata": {},
     "output_type": "execute_result"
    }
   ],
   "source": [
    "def isTest(x):\n",
    "    return x\n",
    "a=123\n",
    "isTest(a)"
   ]
  },
  {
   "cell_type": "code",
   "execution_count": 8,
   "metadata": {},
   "outputs": [
    {
     "name": "stdout",
     "output_type": "stream",
     "text": [
      "[1, 2, 3] <class 'list'>\n"
     ]
    }
   ],
   "source": [
    "def isTestWork(a):\n",
    "    return a\n",
    "a=[1,2,3]\n",
    "print(isTestWork(a),type(a))"
   ]
  },
  {
   "cell_type": "code",
   "execution_count": 7,
   "metadata": {},
   "outputs": [
    {
     "data": {
      "text/plain": [
       "list"
      ]
     },
     "execution_count": 7,
     "metadata": {},
     "output_type": "execute_result"
    }
   ],
   "source": [
    "def isTest(x):\n",
    "    return type(x)\n",
    "a=[1,2,3]\n",
    "isTest(a)"
   ]
  },
  {
   "cell_type": "markdown",
   "metadata": {},
   "source": [
    "### Coding Standards\n",
    "- Variable name : num,num_test,numTest\n",
    "- Function name : fun1(),fun_test(),funTest()\n",
    "- Constructor name : __init__\n",
    "- Class name : Demo(),DemoAbc()\n",
    "- import : import packagename\n",
    "- import : from packagename import function1,function2......"
   ]
  },
  {
   "cell_type": "markdown",
   "metadata": {},
   "source": [
    "#### External Packages : import statements re,math, pandas, matplotlib......\n",
    "#### Regular Expression Creating\n",
    "##### Website : Regexpal.com\n",
    "- Checking for number\n",
    "- Checking for lower case and Upper case\n",
    "- Checking for Special Character"
   ]
  },
  {
   "cell_type": "code",
   "execution_count": 10,
   "metadata": {},
   "outputs": [],
   "source": [
    "import re"
   ]
  },
  {
   "cell_type": "code",
   "execution_count": 14,
   "metadata": {},
   "outputs": [
    {
     "name": "stdout",
     "output_type": "stream",
     "text": [
      "True\n",
      "False\n"
     ]
    }
   ],
   "source": [
    "def two_Digit_Match(n):\n",
    "    pattern='^[0-9]{2}$'\n",
    "    n=str(n)\n",
    "    if re.match(pattern,n):\n",
    "        return True\n",
    "    return False\n",
    "\n",
    "print(two_Digit_Match(18)) #True\n",
    "print(two_Digit_Match(185)) #False\n"
   ]
  },
  {
   "cell_type": "code",
   "execution_count": 15,
   "metadata": {},
   "outputs": [
    {
     "name": "stdout",
     "output_type": "stream",
     "text": [
      "x\n"
     ]
    }
   ],
   "source": [
    "if True:\n",
    "    print('x')\n",
    "else:\n",
    "    print('y')"
   ]
  },
  {
   "cell_type": "code",
   "execution_count": 17,
   "metadata": {},
   "outputs": [
    {
     "name": "stdout",
     "output_type": "stream",
     "text": [
      "True\n",
      "False\n"
     ]
    }
   ],
   "source": [
    "# Lower case upper case\n",
    "# 6 min - 12 max\n",
    "def username_validate(uname):\n",
    "    pattern = '^[A-Z][a-z A-Z]{5,11}$'\n",
    "    if re.match(pattern,uname):\n",
    "        return True\n",
    "    return False\n",
    "print(username_validate('Harshitha')) # true\n",
    "print(username_validate('hhjjgyghsk')) # false"
   ]
  },
  {
   "cell_type": "code",
   "execution_count": 19,
   "metadata": {},
   "outputs": [
    {
     "name": "stdout",
     "output_type": "stream",
     "text": [
      "True\n",
      "False\n"
     ]
    }
   ],
   "source": [
    "# validate - DHS00120\n",
    "# DHS00120 - DHS00999\n",
    "def validate(n):\n",
    "    pattern='^[D][H][S][0]{2}[1-9][2-9][0-9]$'\n",
    "    if re.match(pattern,n):\n",
    "        return True\n",
    "    return False\n",
    "print(validate('DHS00121')) # true\n",
    "print(validate('dhs00121')) # False"
   ]
  },
  {
   "cell_type": "code",
   "execution_count": 20,
   "metadata": {},
   "outputs": [],
   "source": [
    "# Indian mobile no\n",
    "# 9988776644\n",
    "# 09988776644\n",
    "# +91-9988776644"
   ]
  },
  {
   "cell_type": "code",
   "execution_count": 28,
   "metadata": {},
   "outputs": [
    {
     "name": "stdout",
     "output_type": "stream",
     "text": [
      "True\n",
      "True\n",
      "True\n"
     ]
    }
   ],
   "source": [
    "# 9988776644\n",
    "def validate_num(n):\n",
    "    pattern='^[6-9][0-9]{9}$|^[0][6-9][0-9]{9}$|^[+][9][1][-][6-9][0-9]{9}$'\n",
    "    n=str(n)\n",
    "    if re.match(pattern,n):\n",
    "        return True\n",
    "    return False\n",
    "print(validate_num('09988776655')) # True\n",
    "print(validate_num('+91-8767747896')) # False\n",
    "print(validate_num('09988776655'))"
   ]
  },
  {
   "cell_type": "code",
   "execution_count": null,
   "metadata": {},
   "outputs": [],
   "source": [
    "# username validate\n",
    "# should contain one upper case\n",
    "# 6 Lower case,1 digit\n"
   ]
  }
 ],
 "metadata": {
  "kernelspec": {
   "display_name": "Python 3",
   "language": "python",
   "name": "python3"
  },
  "language_info": {
   "codemirror_mode": {
    "name": "ipython",
    "version": 3
   },
   "file_extension": ".py",
   "mimetype": "text/x-python",
   "name": "python",
   "nbconvert_exporter": "python",
   "pygments_lexer": "ipython3",
   "version": "3.7.4"
  }
 },
 "nbformat": 4,
 "nbformat_minor": 2
}
